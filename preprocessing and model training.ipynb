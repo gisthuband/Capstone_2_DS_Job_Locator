{
 "cells": [
  {
   "cell_type": "markdown",
   "id": "cd01d587",
   "metadata": {},
   "source": [
    "# Preprocessing and model training\n",
    "\n",
    "\n",
    "In this notebook, I will prepare my dataframes and then train several classification models off of them and compare results.\n",
    "\n",
    "Building off of two previous notebooks: (https://github.com/gisthuband/Capstone_2_DS_Job_Locator/blob/main/data_wrangle.ipynb and https://github.com/gisthuband/Capstone_2_DS_Job_Locator/blob/main/exploratory_data_analysis.ipynb), I have constructed and analyzed a dataframe containing information on data science jobs in 2024.\n",
    "\n",
    "I will use data to create a classification model, that will take my desired salary range and self perceived competitiveness in the job market, and use that to find the best locations and companies to apply for.\n",
    "\n",
    "The data was found using a kaggle dataset containing 500 job postings for the data science filed in 2024, and a BLS report generated using data science field statistics of 2023.\n",
    "\n",
    "Kaggle: https://www.kaggle.com/datasets/ritiksharma07/data-science-job-listings-from-glassdoor   \n",
    "\n",
    "BLS: https://data.bls.gov/oes/#/occInd/One%20occupation%20for%20multiple%20industries \n",
    "\n",
    "The samples' (the individual job postings) features will be their upper salary post, lower salary post, company rating, total data scientists in company's state, ratio of job posts to total data scientists in company state, annual mean wage of state, annual median wage of state, ratio of job post to annual mean wage, and ratio of job post to annual median wage.\n",
    "\n",
    "Each job will receive its label based on geographic region: west, midwest, south, east, or remote.\n",
    "\n",
    "The models will train based of off the numerical features as x and the regions as y.\n",
    "\n",
    "\n",
    "In the end, I will input my own desired salary range and my perceived competitiveness in the job market.  The salary range will correspond to the upper and lower salary features.  The perceived competitiveness will become the ratio of posting to state mean, which that in turn will be used to calculate the ratio of posting to state median.  These ratios will determine the state mean and median features in tandem with the inputted salary range.  The company rating, employment in state, and ratio of posts to employment will be automatically taken as their median values as to not overcomplicate the model.  From this input I will get the region label, and from this region label I can use the original dataframe and generate, the top posting cities in that region, along with the companies and the titles of roles accompanying those posts.\n",
    "\n"
   ]
  },
  {
   "cell_type": "markdown",
   "id": "ead43e16",
   "metadata": {},
   "source": [
    "## These classification models will be tested and hyperparameter tuned\n",
    "\n",
    "1.) Random Forest Classification (boosting)\n",
    "\n",
    "2.) K Nearest Neighbors Classification\n",
    "\n",
    "3.) Gradient Boosting Classification"
   ]
  },
  {
   "cell_type": "code",
   "execution_count": 1,
   "id": "a9ff9f17",
   "metadata": {},
   "outputs": [],
   "source": [
    "from sklearn import preprocessing\n",
    "from sklearn.metrics import precision_recall_curve\n",
    "from sklearn.metrics import f1_score\n",
    "from sklearn.metrics import auc\n",
    "from sklearn.linear_model import LogisticRegression\n",
    "from matplotlib import pyplot\n",
    "from sklearn.metrics import precision_recall_curve\n",
    "from sklearn.metrics import f1_score\n",
    "from sklearn.metrics import auc\n",
    "from sklearn.linear_model import LogisticRegression\n",
    "from sklearn.metrics import classification_report,confusion_matrix,roc_curve,roc_auc_score\n",
    "from sklearn.metrics import accuracy_score,log_loss\n",
    "from matplotlib import pyplot\n",
    "from sklearn.ensemble import RandomForestClassifier\n",
    "from sklearn.model_selection import train_test_split\n",
    "import pandas as pd\n",
    "import numpy as np\n",
    "import scipy\n",
    "import matplotlib.pyplot as plt\n",
    "from sklearn import tree\n",
    "from IPython.display import Image\n",
    "%matplotlib inline\n",
    "from sklearn import preprocessing\n",
    "from sklearn.ensemble import GradientBoostingClassifier\n",
    "from sklearn.metrics import classification_report, confusion_matrix, roc_curve, auc\n",
    "from sklearn.neighbors import KNeighborsClassifier\n",
    "from sklearn.preprocessing import minmax_scale\n",
    "from sklearn.model_selection import GridSearchCV\n",
    "import sklearn\n",
    "from sklearn import metrics"
   ]
  },
  {
   "cell_type": "markdown",
   "id": "80cca324",
   "metadata": {},
   "source": [
    "# 1.) Random Forest Classification"
   ]
  },
  {
   "cell_type": "code",
   "execution_count": 54,
   "id": "fe1bc026",
   "metadata": {},
   "outputs": [],
   "source": [
    "df = pd.read_csv('explored_data_v1.csv')"
   ]
  },
  {
   "cell_type": "code",
   "execution_count": 55,
   "id": "1cd8ad9b",
   "metadata": {},
   "outputs": [],
   "source": [
    "df = df.drop(columns='Unnamed: 0')"
   ]
  },
  {
   "cell_type": "code",
   "execution_count": 56,
   "id": "f5406b3f",
   "metadata": {},
   "outputs": [
    {
     "data": {
      "text/html": [
       "<div>\n",
       "<style scoped>\n",
       "    .dataframe tbody tr th:only-of-type {\n",
       "        vertical-align: middle;\n",
       "    }\n",
       "\n",
       "    .dataframe tbody tr th {\n",
       "        vertical-align: top;\n",
       "    }\n",
       "\n",
       "    .dataframe thead th {\n",
       "        text-align: right;\n",
       "    }\n",
       "</style>\n",
       "<table border=\"1\" class=\"dataframe\">\n",
       "  <thead>\n",
       "    <tr style=\"text-align: right;\">\n",
       "      <th></th>\n",
       "      <th>upper_salary</th>\n",
       "      <th>lower_salary</th>\n",
       "      <th>state</th>\n",
       "      <th>city</th>\n",
       "      <th>Job Title</th>\n",
       "      <th>Company Rating</th>\n",
       "      <th>company_name</th>\n",
       "      <th>tot_employment_in_state</th>\n",
       "      <th>Annual mean wage(2)</th>\n",
       "      <th>Annual median wage(2)</th>\n",
       "      <th>total_new_post_rat</th>\n",
       "      <th>range_avg_to_mean_ratio</th>\n",
       "      <th>range_avg_to_median_ratio</th>\n",
       "      <th>labels</th>\n",
       "    </tr>\n",
       "  </thead>\n",
       "  <tbody>\n",
       "    <tr>\n",
       "      <th>0</th>\n",
       "      <td>84000.000000</td>\n",
       "      <td>57000.000000</td>\n",
       "      <td>WI</td>\n",
       "      <td>Onalaska</td>\n",
       "      <td>Associate Stop Loss Underwriter</td>\n",
       "      <td>2.7</td>\n",
       "      <td>The Insurance Center</td>\n",
       "      <td>3090.0</td>\n",
       "      <td>105250.0</td>\n",
       "      <td>101850.0</td>\n",
       "      <td>515.0</td>\n",
       "      <td>0.669834</td>\n",
       "      <td>0.692194</td>\n",
       "      <td>midwest</td>\n",
       "    </tr>\n",
       "    <tr>\n",
       "      <th>1</th>\n",
       "      <td>148165.491991</td>\n",
       "      <td>104355.331808</td>\n",
       "      <td>WI</td>\n",
       "      <td>Eau Claire</td>\n",
       "      <td>Marketing Advertising Analyst</td>\n",
       "      <td>3.0</td>\n",
       "      <td>Net Health Shops, LLC</td>\n",
       "      <td>3090.0</td>\n",
       "      <td>105250.0</td>\n",
       "      <td>101850.0</td>\n",
       "      <td>515.0</td>\n",
       "      <td>1.199624</td>\n",
       "      <td>1.239670</td>\n",
       "      <td>midwest</td>\n",
       "    </tr>\n",
       "    <tr>\n",
       "      <th>2</th>\n",
       "      <td>160000.000000</td>\n",
       "      <td>135000.000000</td>\n",
       "      <td>WI</td>\n",
       "      <td>Madison</td>\n",
       "      <td>Manager - IT Infrastructure Engineering</td>\n",
       "      <td>3.9</td>\n",
       "      <td>UW Credit Union</td>\n",
       "      <td>3090.0</td>\n",
       "      <td>105250.0</td>\n",
       "      <td>101850.0</td>\n",
       "      <td>515.0</td>\n",
       "      <td>1.401425</td>\n",
       "      <td>1.448208</td>\n",
       "      <td>midwest</td>\n",
       "    </tr>\n",
       "    <tr>\n",
       "      <th>3</th>\n",
       "      <td>84000.000000</td>\n",
       "      <td>59000.000000</td>\n",
       "      <td>WI</td>\n",
       "      <td>Wausau</td>\n",
       "      <td>Associate Stop Loss Underwriter</td>\n",
       "      <td>2.7</td>\n",
       "      <td>The Insurance Center</td>\n",
       "      <td>3090.0</td>\n",
       "      <td>105250.0</td>\n",
       "      <td>101850.0</td>\n",
       "      <td>515.0</td>\n",
       "      <td>0.679335</td>\n",
       "      <td>0.702013</td>\n",
       "      <td>midwest</td>\n",
       "    </tr>\n",
       "    <tr>\n",
       "      <th>4</th>\n",
       "      <td>87000.000000</td>\n",
       "      <td>58000.000000</td>\n",
       "      <td>WI</td>\n",
       "      <td>New Berlin</td>\n",
       "      <td>Supply Chain Data Analyst (Day Shift) - New Be...</td>\n",
       "      <td>3.5</td>\n",
       "      <td>DB SCHENKER</td>\n",
       "      <td>3090.0</td>\n",
       "      <td>105250.0</td>\n",
       "      <td>101850.0</td>\n",
       "      <td>515.0</td>\n",
       "      <td>0.688836</td>\n",
       "      <td>0.711831</td>\n",
       "      <td>midwest</td>\n",
       "    </tr>\n",
       "  </tbody>\n",
       "</table>\n",
       "</div>"
      ],
      "text/plain": [
       "    upper_salary   lower_salary state        city  \\\n",
       "0   84000.000000   57000.000000    WI    Onalaska   \n",
       "1  148165.491991  104355.331808    WI  Eau Claire   \n",
       "2  160000.000000  135000.000000    WI     Madison   \n",
       "3   84000.000000   59000.000000    WI      Wausau   \n",
       "4   87000.000000   58000.000000    WI  New Berlin   \n",
       "\n",
       "                                           Job Title  Company Rating  \\\n",
       "0                    Associate Stop Loss Underwriter             2.7   \n",
       "1                      Marketing Advertising Analyst             3.0   \n",
       "2            Manager - IT Infrastructure Engineering             3.9   \n",
       "3                    Associate Stop Loss Underwriter             2.7   \n",
       "4  Supply Chain Data Analyst (Day Shift) - New Be...             3.5   \n",
       "\n",
       "            company_name  tot_employment_in_state  Annual mean wage(2)  \\\n",
       "0   The Insurance Center                   3090.0             105250.0   \n",
       "1  Net Health Shops, LLC                   3090.0             105250.0   \n",
       "2        UW Credit Union                   3090.0             105250.0   \n",
       "3   The Insurance Center                   3090.0             105250.0   \n",
       "4            DB SCHENKER                   3090.0             105250.0   \n",
       "\n",
       "   Annual median wage(2)  total_new_post_rat  range_avg_to_mean_ratio  \\\n",
       "0               101850.0               515.0                 0.669834   \n",
       "1               101850.0               515.0                 1.199624   \n",
       "2               101850.0               515.0                 1.401425   \n",
       "3               101850.0               515.0                 0.679335   \n",
       "4               101850.0               515.0                 0.688836   \n",
       "\n",
       "   range_avg_to_median_ratio   labels  \n",
       "0                   0.692194  midwest  \n",
       "1                   1.239670  midwest  \n",
       "2                   1.448208  midwest  \n",
       "3                   0.702013  midwest  \n",
       "4                   0.711831  midwest  "
      ]
     },
     "execution_count": 56,
     "metadata": {},
     "output_type": "execute_result"
    }
   ],
   "source": [
    "df.head()"
   ]
  },
  {
   "cell_type": "code",
   "execution_count": 57,
   "id": "6b23a2a9",
   "metadata": {},
   "outputs": [],
   "source": [
    "df = df.drop(columns=['state','city','Job Title','company_name'])"
   ]
  },
  {
   "cell_type": "code",
   "execution_count": 58,
   "id": "7fa8c6ba",
   "metadata": {},
   "outputs": [],
   "source": [
    "dum_df = pd.get_dummies(df['labels'])"
   ]
  },
  {
   "cell_type": "code",
   "execution_count": 59,
   "id": "3369f84c",
   "metadata": {},
   "outputs": [],
   "source": [
    "ready_df = df"
   ]
  },
  {
   "cell_type": "code",
   "execution_count": 60,
   "id": "0043081e",
   "metadata": {},
   "outputs": [],
   "source": [
    "dummed_df = pd.concat([df, dum_df],axis=1)"
   ]
  },
  {
   "cell_type": "code",
   "execution_count": 61,
   "id": "fc605b27",
   "metadata": {},
   "outputs": [],
   "source": [
    "dummed_df = dummed_df.drop(columns='labels')"
   ]
  },
  {
   "cell_type": "code",
   "execution_count": 62,
   "id": "733d6ec3",
   "metadata": {},
   "outputs": [
    {
     "data": {
      "text/html": [
       "<div>\n",
       "<style scoped>\n",
       "    .dataframe tbody tr th:only-of-type {\n",
       "        vertical-align: middle;\n",
       "    }\n",
       "\n",
       "    .dataframe tbody tr th {\n",
       "        vertical-align: top;\n",
       "    }\n",
       "\n",
       "    .dataframe thead th {\n",
       "        text-align: right;\n",
       "    }\n",
       "</style>\n",
       "<table border=\"1\" class=\"dataframe\">\n",
       "  <thead>\n",
       "    <tr style=\"text-align: right;\">\n",
       "      <th></th>\n",
       "      <th>upper_salary</th>\n",
       "      <th>lower_salary</th>\n",
       "      <th>Company Rating</th>\n",
       "      <th>tot_employment_in_state</th>\n",
       "      <th>Annual mean wage(2)</th>\n",
       "      <th>Annual median wage(2)</th>\n",
       "      <th>total_new_post_rat</th>\n",
       "      <th>range_avg_to_mean_ratio</th>\n",
       "      <th>range_avg_to_median_ratio</th>\n",
       "      <th>east</th>\n",
       "      <th>midwest</th>\n",
       "      <th>remote</th>\n",
       "      <th>south</th>\n",
       "      <th>west</th>\n",
       "    </tr>\n",
       "  </thead>\n",
       "  <tbody>\n",
       "    <tr>\n",
       "      <th>0</th>\n",
       "      <td>84000.000000</td>\n",
       "      <td>57000.000000</td>\n",
       "      <td>2.7</td>\n",
       "      <td>3090.0</td>\n",
       "      <td>105250.0</td>\n",
       "      <td>101850.0</td>\n",
       "      <td>515.0</td>\n",
       "      <td>0.669834</td>\n",
       "      <td>0.692194</td>\n",
       "      <td>False</td>\n",
       "      <td>True</td>\n",
       "      <td>False</td>\n",
       "      <td>False</td>\n",
       "      <td>False</td>\n",
       "    </tr>\n",
       "    <tr>\n",
       "      <th>1</th>\n",
       "      <td>148165.491991</td>\n",
       "      <td>104355.331808</td>\n",
       "      <td>3.0</td>\n",
       "      <td>3090.0</td>\n",
       "      <td>105250.0</td>\n",
       "      <td>101850.0</td>\n",
       "      <td>515.0</td>\n",
       "      <td>1.199624</td>\n",
       "      <td>1.239670</td>\n",
       "      <td>False</td>\n",
       "      <td>True</td>\n",
       "      <td>False</td>\n",
       "      <td>False</td>\n",
       "      <td>False</td>\n",
       "    </tr>\n",
       "    <tr>\n",
       "      <th>2</th>\n",
       "      <td>160000.000000</td>\n",
       "      <td>135000.000000</td>\n",
       "      <td>3.9</td>\n",
       "      <td>3090.0</td>\n",
       "      <td>105250.0</td>\n",
       "      <td>101850.0</td>\n",
       "      <td>515.0</td>\n",
       "      <td>1.401425</td>\n",
       "      <td>1.448208</td>\n",
       "      <td>False</td>\n",
       "      <td>True</td>\n",
       "      <td>False</td>\n",
       "      <td>False</td>\n",
       "      <td>False</td>\n",
       "    </tr>\n",
       "    <tr>\n",
       "      <th>3</th>\n",
       "      <td>84000.000000</td>\n",
       "      <td>59000.000000</td>\n",
       "      <td>2.7</td>\n",
       "      <td>3090.0</td>\n",
       "      <td>105250.0</td>\n",
       "      <td>101850.0</td>\n",
       "      <td>515.0</td>\n",
       "      <td>0.679335</td>\n",
       "      <td>0.702013</td>\n",
       "      <td>False</td>\n",
       "      <td>True</td>\n",
       "      <td>False</td>\n",
       "      <td>False</td>\n",
       "      <td>False</td>\n",
       "    </tr>\n",
       "    <tr>\n",
       "      <th>4</th>\n",
       "      <td>87000.000000</td>\n",
       "      <td>58000.000000</td>\n",
       "      <td>3.5</td>\n",
       "      <td>3090.0</td>\n",
       "      <td>105250.0</td>\n",
       "      <td>101850.0</td>\n",
       "      <td>515.0</td>\n",
       "      <td>0.688836</td>\n",
       "      <td>0.711831</td>\n",
       "      <td>False</td>\n",
       "      <td>True</td>\n",
       "      <td>False</td>\n",
       "      <td>False</td>\n",
       "      <td>False</td>\n",
       "    </tr>\n",
       "  </tbody>\n",
       "</table>\n",
       "</div>"
      ],
      "text/plain": [
       "    upper_salary   lower_salary  Company Rating  tot_employment_in_state  \\\n",
       "0   84000.000000   57000.000000             2.7                   3090.0   \n",
       "1  148165.491991  104355.331808             3.0                   3090.0   \n",
       "2  160000.000000  135000.000000             3.9                   3090.0   \n",
       "3   84000.000000   59000.000000             2.7                   3090.0   \n",
       "4   87000.000000   58000.000000             3.5                   3090.0   \n",
       "\n",
       "   Annual mean wage(2)  Annual median wage(2)  total_new_post_rat  \\\n",
       "0             105250.0               101850.0               515.0   \n",
       "1             105250.0               101850.0               515.0   \n",
       "2             105250.0               101850.0               515.0   \n",
       "3             105250.0               101850.0               515.0   \n",
       "4             105250.0               101850.0               515.0   \n",
       "\n",
       "   range_avg_to_mean_ratio  range_avg_to_median_ratio   east  midwest  remote  \\\n",
       "0                 0.669834                   0.692194  False     True   False   \n",
       "1                 1.199624                   1.239670  False     True   False   \n",
       "2                 1.401425                   1.448208  False     True   False   \n",
       "3                 0.679335                   0.702013  False     True   False   \n",
       "4                 0.688836                   0.711831  False     True   False   \n",
       "\n",
       "   south   west  \n",
       "0  False  False  \n",
       "1  False  False  \n",
       "2  False  False  \n",
       "3  False  False  \n",
       "4  False  False  "
      ]
     },
     "execution_count": 62,
     "metadata": {},
     "output_type": "execute_result"
    }
   ],
   "source": [
    "dummed_df.head()"
   ]
  },
  {
   "cell_type": "code",
   "execution_count": 63,
   "id": "1a7d2624",
   "metadata": {},
   "outputs": [],
   "source": [
    "features = list(dummed_df.columns[dummed_df.columns != 'west'])\n",
    "features.remove('south')\n",
    "features.remove('east')\n",
    "features.remove('midwest')\n",
    "features.remove('remote')"
   ]
  },
  {
   "cell_type": "code",
   "execution_count": 94,
   "id": "f0d824cc",
   "metadata": {},
   "outputs": [],
   "source": [
    "X = dummed_df[features]\n",
    "\n",
    "y = dummed_df[['west','east','south','midwest','remote']]\n",
    "\n",
    "X_train, X_test, y_train, y_test = train_test_split(X, y, test_size=.2, stratify=y)"
   ]
  },
  {
   "cell_type": "code",
   "execution_count": 95,
   "id": "4145db93",
   "metadata": {},
   "outputs": [
    {
     "data": {
      "text/plain": [
       "((275, 9), (69, 9), (275, 5), (69, 5))"
      ]
     },
     "execution_count": 95,
     "metadata": {},
     "output_type": "execute_result"
    }
   ],
   "source": [
    "X_train.shape, X_test.shape, y_train.shape, y_test.shape"
   ]
  },
  {
   "cell_type": "code",
   "execution_count": 96,
   "id": "12d9b989",
   "metadata": {},
   "outputs": [],
   "source": [
    "grid_params = {'n_estimators':[50, 100, 200, 300, 500], 'criterion':['gini','entropy','log_loss'] }"
   ]
  },
  {
   "cell_type": "code",
   "execution_count": 97,
   "id": "8095e02c",
   "metadata": {},
   "outputs": [],
   "source": [
    "gscv_rfc = GridSearchCV(RandomForestClassifier(), param_grid=grid_params, cv=5, scoring='accuracy')"
   ]
  },
  {
   "cell_type": "code",
   "execution_count": 98,
   "id": "40d343f3",
   "metadata": {},
   "outputs": [],
   "source": [
    "rfc = gscv_rfc.fit(X_train, y_train)"
   ]
  },
  {
   "cell_type": "code",
   "execution_count": 99,
   "id": "b7bd5977",
   "metadata": {},
   "outputs": [
    {
     "name": "stdout",
     "output_type": "stream",
     "text": [
      "{'criterion': 'entropy', 'n_estimators': 500}\n",
      "0.9709090909090909\n"
     ]
    }
   ],
   "source": [
    "print (rfc.best_params_)\n",
    "print (rfc.best_score_)"
   ]
  },
  {
   "cell_type": "code",
   "execution_count": 100,
   "id": "6623546a",
   "metadata": {},
   "outputs": [],
   "source": [
    "best_rfc = RandomForestClassifier(n_estimators=500, criterion='entropy')\n",
    "res = best_rfc.fit(X_train, y_train)"
   ]
  },
  {
   "cell_type": "code",
   "execution_count": 101,
   "id": "9c7eda8f",
   "metadata": {},
   "outputs": [
    {
     "name": "stdout",
     "output_type": "stream",
     "text": [
      "0.8886205045625335\n",
      "[[ 9  0  0  1  0]\n",
      " [ 1 13  0  0  0]\n",
      " [ 2  0 22  2  0]\n",
      " [ 2  0  0  7  0]\n",
      " [ 0  0  0  0 10]]\n"
     ]
    }
   ],
   "source": [
    "y_pred = res.predict(X_test)\n",
    "\n",
    "f1 = f1_score(y_test, y_pred, average='weighted')\n",
    "cm = confusion_matrix(np.array(y_test).argmax(axis=1), np.array(y_pred).argmax(axis=1))\n",
    "\n",
    "print (f1)\n",
    "\n",
    "print (cm)"
   ]
  },
  {
   "cell_type": "markdown",
   "id": "2fccdf96",
   "metadata": {},
   "source": [
    "# 2.) K Neighbors Classifier"
   ]
  },
  {
   "cell_type": "markdown",
   "id": "de47b6e1",
   "metadata": {},
   "source": [
    "1.) Using the standard scaled x data (x - mean)/std"
   ]
  },
  {
   "cell_type": "code",
   "execution_count": 102,
   "id": "3dad9720",
   "metadata": {},
   "outputs": [
    {
     "data": {
      "text/plain": [
       "((275, 9), (69, 9))"
      ]
     },
     "execution_count": 102,
     "metadata": {},
     "output_type": "execute_result"
    }
   ],
   "source": [
    "s_scaler = preprocessing.StandardScaler().fit(X_train)\n",
    "X_train_s_scaled=s_scaler.transform(X_train)\n",
    "X_test_s_scaled=s_scaler.transform(X_test)\n",
    "\n",
    "X_train_s_scaled.shape, X_test_s_scaled.shape"
   ]
  },
  {
   "cell_type": "code",
   "execution_count": 103,
   "id": "33808bd4",
   "metadata": {},
   "outputs": [
    {
     "data": {
      "text/plain": [
       "((275, 9), (69, 9))"
      ]
     },
     "execution_count": 103,
     "metadata": {},
     "output_type": "execute_result"
    }
   ],
   "source": [
    "X_train_mm_scaled=preprocessing.minmax_scale(X_train)\n",
    "X_test_mm_scaled=preprocessing.minmax_scale(X_test)\n",
    "\n",
    "X_train_mm_scaled.shape, X_test_mm_scaled.shape"
   ]
  },
  {
   "cell_type": "code",
   "execution_count": 104,
   "id": "3221e148",
   "metadata": {},
   "outputs": [],
   "source": [
    "grid_params_k = {'n_neighbors':[3, 4, 5, 6, 7, 8 ,9, 10],'leaf_size': [20,40,1], 'weights':['uniform','distance'], 'p':[1,2] }"
   ]
  },
  {
   "cell_type": "code",
   "execution_count": 105,
   "id": "6f30633a",
   "metadata": {},
   "outputs": [],
   "source": [
    "gscv_knn = GridSearchCV(KNeighborsClassifier(), param_grid=grid_params_k, cv=5, scoring='accuracy')"
   ]
  },
  {
   "cell_type": "code",
   "execution_count": 106,
   "id": "bad2ce9f",
   "metadata": {},
   "outputs": [],
   "source": [
    "knn_s = gscv_knn.fit(X_train_s_scaled, y_train)"
   ]
  },
  {
   "cell_type": "code",
   "execution_count": 107,
   "id": "218685fd",
   "metadata": {},
   "outputs": [
    {
     "name": "stdout",
     "output_type": "stream",
     "text": [
      "{'leaf_size': 20, 'n_neighbors': 3, 'p': 1, 'weights': 'distance'}\n",
      "0.7963636363636363\n"
     ]
    }
   ],
   "source": [
    "print (knn_s.best_params_)\n",
    "print (knn_s.best_score_)"
   ]
  },
  {
   "cell_type": "code",
   "execution_count": 108,
   "id": "b7cbadfc",
   "metadata": {},
   "outputs": [
    {
     "name": "stdout",
     "output_type": "stream",
     "text": [
      "Best Test Accuracy Score: 0.7681159420289855\n"
     ]
    }
   ],
   "source": [
    "knn_s_best = KNeighborsClassifier(n_neighbors=3, leaf_size=20, p=1, weights='distance')\n",
    "model = knn_s_best.fit(X_train_s_scaled, y_train)\n",
    "y_pred = model.predict(X_test_s_scaled)\n",
    "\n",
    "print('Best Test Accuracy Score:', metrics.accuracy_score(y_test, y_pred))  "
   ]
  },
  {
   "cell_type": "code",
   "execution_count": 109,
   "id": "98fbac7a",
   "metadata": {},
   "outputs": [
    {
     "name": "stdout",
     "output_type": "stream",
     "text": [
      "0.7849801235990495\n",
      "[[ 6  0  1  3  0]\n",
      " [ 0 10  3  1  0]\n",
      " [ 2  1 21  1  1]\n",
      " [ 2  1  0  6  0]\n",
      " [ 0  0  0  0 10]]\n"
     ]
    }
   ],
   "source": [
    "f1 = f1_score(y_test, y_pred, average='weighted')\n",
    "cm = confusion_matrix(np.array(y_test).argmax(axis=1), np.array(y_pred).argmax(axis=1))\n",
    "\n",
    "print (f1)\n",
    "print (cm)"
   ]
  },
  {
   "cell_type": "markdown",
   "id": "78c7628c",
   "metadata": {},
   "source": [
    "2.) Using the min max scaling now (X- Xmin)/range"
   ]
  },
  {
   "cell_type": "code",
   "execution_count": 110,
   "id": "769dee12",
   "metadata": {},
   "outputs": [],
   "source": [
    "grid_params_k = {'n_neighbors':[3, 4, 5, 6, 7, 8 ,9, 10],'leaf_size': [20,40,1], 'weights':['uniform','distance'], 'p':[1,2] }"
   ]
  },
  {
   "cell_type": "code",
   "execution_count": 111,
   "id": "f4f223fd",
   "metadata": {},
   "outputs": [],
   "source": [
    "gscv_knn = GridSearchCV(KNeighborsClassifier(), param_grid=grid_params_k, cv=5, scoring='accuracy')"
   ]
  },
  {
   "cell_type": "code",
   "execution_count": 112,
   "id": "48e3c7fd",
   "metadata": {},
   "outputs": [],
   "source": [
    "knn_mm = gscv_knn.fit(X_train_mm_scaled, y_train)"
   ]
  },
  {
   "cell_type": "code",
   "execution_count": 113,
   "id": "6610080e",
   "metadata": {},
   "outputs": [
    {
     "name": "stdout",
     "output_type": "stream",
     "text": [
      "{'leaf_size': 20, 'n_neighbors': 4, 'p': 1, 'weights': 'distance'}\n",
      "0.8545454545454545\n"
     ]
    }
   ],
   "source": [
    "print (knn_mm.best_params_)\n",
    "print (knn_mm.best_score_)"
   ]
  },
  {
   "cell_type": "code",
   "execution_count": 114,
   "id": "dc57748e",
   "metadata": {},
   "outputs": [
    {
     "name": "stdout",
     "output_type": "stream",
     "text": [
      "Best Test Accuracy Score: 0.4492753623188406\n"
     ]
    }
   ],
   "source": [
    "knn_mm_best = KNeighborsClassifier(n_neighbors=4, leaf_size=20, p=1, weights='distance')\n",
    "model = knn_mm_best.fit(X_train_mm_scaled, y_train)\n",
    "y_pred = model.predict(X_test_mm_scaled)\n",
    "\n",
    "print('Best Test Accuracy Score:', metrics.accuracy_score(y_test, y_pred))  "
   ]
  },
  {
   "cell_type": "code",
   "execution_count": 115,
   "id": "560da30b",
   "metadata": {},
   "outputs": [
    {
     "name": "stdout",
     "output_type": "stream",
     "text": [
      "0.4672369697504189\n",
      "[[ 8  0  1  1  0]\n",
      " [ 0  5  7  1  1]\n",
      " [ 2  1 16  4  3]\n",
      " [ 1  3  2  2  1]\n",
      " [ 1  6  0  1  2]]\n"
     ]
    }
   ],
   "source": [
    "f1 = f1_score(y_test, y_pred, average='weighted')\n",
    "cm = confusion_matrix(np.array(y_test).argmax(axis=1), np.array(y_pred).argmax(axis=1))\n",
    "\n",
    "print (f1)\n",
    "print (cm)"
   ]
  },
  {
   "cell_type": "markdown",
   "id": "c0443079",
   "metadata": {},
   "source": [
    "# 3.) Gradient Boosting Classifier"
   ]
  },
  {
   "cell_type": "code",
   "execution_count": 116,
   "id": "9979d050",
   "metadata": {},
   "outputs": [
    {
     "data": {
      "text/plain": [
       "((275, 9), (275,), (69, 9), (69,))"
      ]
     },
     "execution_count": 116,
     "metadata": {},
     "output_type": "execute_result"
    }
   ],
   "source": [
    "features = list(ready_df.columns[ready_df.columns != 'labels'])\n",
    "\n",
    "X = ready_df[features]\n",
    "y = ready_df['labels']\n",
    "X_train, X_test, y_train, y_test = train_test_split(X, y, test_size=.2, random_state=1, stratify=y)\n",
    "X_train.shape, y_train.shape, X_test.shape, y_test.shape"
   ]
  },
  {
   "cell_type": "code",
   "execution_count": 117,
   "id": "6a3a91eb",
   "metadata": {},
   "outputs": [],
   "source": [
    "grid_params_gb = {'learning_rate':[0.05, 0.1, 0.25, 0.5, 0.75, 1],'n_estimators':[30, 40, 50, 75, 100],'max_depth':[2, 3, 4, 5, 6], 'max_features':[2, 3, 4, 5, 6]}"
   ]
  },
  {
   "cell_type": "code",
   "execution_count": 118,
   "id": "f343cdd6",
   "metadata": {},
   "outputs": [],
   "source": [
    "gcsv_gb = GridSearchCV(GradientBoostingClassifier(), param_grid=grid_params_gb, cv=5, scoring='accuracy')"
   ]
  },
  {
   "cell_type": "code",
   "execution_count": 119,
   "id": "eee851b1",
   "metadata": {},
   "outputs": [],
   "source": [
    "gb = gcsv_gb.fit(X_train, y_train)"
   ]
  },
  {
   "cell_type": "code",
   "execution_count": 120,
   "id": "4860ed0c",
   "metadata": {},
   "outputs": [
    {
     "name": "stdout",
     "output_type": "stream",
     "text": [
      "{'learning_rate': 0.75, 'max_depth': 3, 'max_features': 4, 'n_estimators': 50}\n",
      "0.9854545454545456\n"
     ]
    }
   ],
   "source": [
    "print (gb.best_params_)\n",
    "print (gb.best_score_)"
   ]
  },
  {
   "cell_type": "code",
   "execution_count": 121,
   "id": "bf0de1ca",
   "metadata": {},
   "outputs": [
    {
     "name": "stdout",
     "output_type": "stream",
     "text": [
      "Best Test Accuracy Score: 0.9565217391304348\n"
     ]
    }
   ],
   "source": [
    "gb_best = GradientBoostingClassifier(learning_rate=.75, max_depth=3, max_features=4, n_estimators=50)\n",
    "model = gb_best.fit(X_train, y_train)\n",
    "y_pred = model.predict(X_test)\n",
    "\n",
    "print('Best Test Accuracy Score:', metrics.accuracy_score(y_test, y_pred)) "
   ]
  },
  {
   "cell_type": "code",
   "execution_count": 122,
   "id": "72675213",
   "metadata": {},
   "outputs": [
    {
     "name": "stdout",
     "output_type": "stream",
     "text": [
      "0.9572595520421607\n",
      "[[14  0  0  0  0]\n",
      " [ 0  8  0  0  1]\n",
      " [ 0  0 10  0  0]\n",
      " [ 0  1  0 24  1]\n",
      " [ 0  0  0  0 10]]\n"
     ]
    }
   ],
   "source": [
    "f1 = f1_score(y_test, y_pred, average='weighted')\n",
    "cm = confusion_matrix(y_test,y_pred)\n",
    "\n",
    "print (f1)\n",
    "print (cm)"
   ]
  },
  {
   "cell_type": "markdown",
   "id": "89dc0107",
   "metadata": {},
   "source": [
    "# In summary:\n",
    "\n",
    "Here is the performance of the different models, as fitted upon their best hyperparameter adjustments:\n",
    "\n",
    "RFC: (accuracy: .97, f1: .89)\n",
    "KNN best scaling: (accuracy: .80 , f1: .77)\n",
    "GB: (accuracy: .96, f1: .96)\n",
    "\n",
    "The gradient boosting classification model performed the best on the confusion matrix statistic (f1 score), thus it is the prime contender for the final ML classification model to be used in the actual prediction."
   ]
  },
  {
   "cell_type": "code",
   "execution_count": null,
   "id": "3f2e1fd5",
   "metadata": {},
   "outputs": [],
   "source": []
  }
 ],
 "metadata": {
  "kernelspec": {
   "display_name": "Python 3 (ipykernel)",
   "language": "python",
   "name": "python3"
  },
  "language_info": {
   "codemirror_mode": {
    "name": "ipython",
    "version": 3
   },
   "file_extension": ".py",
   "mimetype": "text/x-python",
   "name": "python",
   "nbconvert_exporter": "python",
   "pygments_lexer": "ipython3",
   "version": "3.11.7"
  }
 },
 "nbformat": 4,
 "nbformat_minor": 5
}
